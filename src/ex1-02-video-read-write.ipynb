{
 "metadata": {
  "language_info": {
   "codemirror_mode": {
    "name": "ipython",
    "version": 3
   },
   "file_extension": ".py",
   "mimetype": "text/x-python",
   "name": "python",
   "nbconvert_exporter": "python",
   "pygments_lexer": "ipython3",
   "version": "3.9.5"
  },
  "orig_nbformat": 4,
  "kernelspec": {
   "name": "python3",
   "display_name": "Python 3.7.10 64-bit ('cv': conda)"
  },
  "interpreter": {
   "hash": "b24c52352ef91daf00e83c4e0a0f6d4e74ece916e767372443e591080662852c"
  }
 },
 "nbformat": 4,
 "nbformat_minor": 2,
 "cells": [
  {
   "cell_type": "code",
   "execution_count": 3,
   "metadata": {},
   "outputs": [],
   "source": [
    "import cv2\n",
    "\n",
    "fourcc = cv2.VideoWriter_fourcc(*'mp4v') \n",
    "\n",
    "cap = cv2.VideoCapture('../datasets/videos/vdo-0.mp4')\n",
    "out = cv2.VideoWriter('../datasets/output/output0.mp4', fourcc, 10, (256,144)) #video size must be fit \n",
    "while(cap.isOpened()):\n",
    "    ret, frame = cap.read()\n",
    "    if ret == True:\n",
    "        cv2.imshow('Video', frame)\n",
    "        out.write(frame)\n",
    "        if cv2.waitKey(30) & 0xFF == ord(' '):\n",
    "            break\n",
    "    else:\n",
    "        break\n",
    "cap.release()\n",
    "out.release()\n",
    "cv2.destroyAllWindows()"
   ]
  }
 ]
}