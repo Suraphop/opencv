{
 "metadata": {
  "language_info": {
   "codemirror_mode": {
    "name": "ipython",
    "version": 3
   },
   "file_extension": ".py",
   "mimetype": "text/x-python",
   "name": "python",
   "nbconvert_exporter": "python",
   "pygments_lexer": "ipython3",
   "version": "3.9.5"
  },
  "orig_nbformat": 4,
  "kernelspec": {
   "name": "python3",
   "display_name": "Python 3.9.5 64-bit ('cv': conda)"
  },
  "interpreter": {
   "hash": "b24c52352ef91daf00e83c4e0a0f6d4e74ece916e767372443e591080662852c"
  }
 },
 "nbformat": 4,
 "nbformat_minor": 2,
 "cells": [
  {
   "cell_type": "code",
   "execution_count": 11,
   "metadata": {},
   "outputs": [],
   "source": [
    "import pandas as pd\n",
    "from pathlib import Path\n",
    "\n",
    "dir = input('input directory: ')\n",
    "root_dir = Path('../datasets/' + dir)\n",
    "items = root_dir.iterdir()\n",
    "\n",
    "count = 0\n",
    "label_text = []\n",
    "filenames = []\n",
    "labels = []\n",
    "for item in items:\n",
    "    if item.is_dir():\n",
    "        for file in item.iterdir():\n",
    "            filenames.append(file)\n",
    "            labels.append(count)\n",
    "        label_text.append(item.name)\n",
    "        count += 1\n",
    "\n",
    "raw_data = {'filename': filenames, 'label': labels}\n",
    "df = pd.DataFrame(raw_data, columns=['filename','label'])\n",
    "df.to_csv('../datasets/' + dir + '.csv')\n",
    "\n",
    "index = {'label': label_text}\n",
    "df = pd.DataFrame(index, columns=['label'])\n",
    "df.to_csv('../datasets/' + dir + '-index.csv')\n"
   ]
  }
 ]
}