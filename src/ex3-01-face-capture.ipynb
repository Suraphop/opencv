{
 "metadata": {
  "language_info": {
   "codemirror_mode": {
    "name": "ipython",
    "version": 3
   },
   "file_extension": ".py",
   "mimetype": "text/x-python",
   "name": "python",
   "nbconvert_exporter": "python",
   "pygments_lexer": "ipython3",
   "version": "3.9.5"
  },
  "orig_nbformat": 4,
  "kernelspec": {
   "name": "python3",
   "display_name": "Python 3.9.5 64-bit ('cv': conda)"
  },
  "interpreter": {
   "hash": "b24c52352ef91daf00e83c4e0a0f6d4e74ece916e767372443e591080662852c"
  }
 },
 "nbformat": 4,
 "nbformat_minor": 2,
 "cells": [
  {
   "cell_type": "code",
   "execution_count": 10,
   "metadata": {},
   "outputs": [],
   "source": [
    "import cv2\n",
    "\n",
    "from pathlib import Path\n",
    "\n",
    "cap = cv2.VideoCapture(0)\n",
    "detector = cv2.CascadeClassifier('../models/haarcascades/haarcascade_frontalface_default.xml')\n",
    "\n",
    "n = 20\n",
    "count = 0\n",
    "label = input('input name: ')\n",
    "\n",
    "raw_path = Path('../datasets/faces/' + label)\n",
    "if not raw_path.exists():\n",
    "    raw_path.mkdir()\n",
    "\n",
    "\n",
    "while(cap.isOpened() and count < n):\n",
    "    ret, frame = cap.read()\n",
    "    if ret == True:\n",
    "        img = frame.copy()\n",
    "        gray = cv2.cvtColor(img, cv2.COLOR_BGR2GRAY)\n",
    "        faces = detector.detectMultiScale(gray, 1.2, 4)\n",
    "\n",
    "\n",
    "        if len(faces) > 0:\n",
    "            for (x, y, w, h) in faces:\n",
    "                cv2.rectangle(img, (x,y), (x+w,y+h), (0,255,0), 2)\n",
    "            if cv2.waitKey(1) & 0xFF == ord(' '):\n",
    "                 path = str(raw_path) + '/'+label+ str(count) + '.jpg'\n",
    "                 cv2.imwrite(path, frame)\n",
    "                 count += 1\n",
    "        \n",
    "        cv2.putText(img, 'count = ' + str(count) + ' of ' + str(n), (20,20), cv2.FONT_HERSHEY_SIMPLEX, 0.6, (0,255,0), thickness=2)\n",
    "        cv2.imshow('Face Acquisition', img)\n",
    "\n",
    "        if cv2.waitKey(1) & 0xFF == ord('q'):\n",
    "            break\n",
    "    else:\n",
    "        break\n",
    "cap.release()\n",
    "#out.release()\n",
    "cv2.destroyAllWindows()"
   ]
  }
 ]
}