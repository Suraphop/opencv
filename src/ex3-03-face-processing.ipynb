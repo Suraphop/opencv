{
 "metadata": {
  "language_info": {
   "codemirror_mode": {
    "name": "ipython",
    "version": 3
   },
   "file_extension": ".py",
   "mimetype": "text/x-python",
   "name": "python",
   "nbconvert_exporter": "python",
   "pygments_lexer": "ipython3",
   "version": "3.9.5"
  },
  "orig_nbformat": 4,
  "kernelspec": {
   "name": "python3",
   "display_name": "Python 3.9.5 64-bit ('cv': conda)"
  },
  "interpreter": {
   "hash": "b24c52352ef91daf00e83c4e0a0f6d4e74ece916e767372443e591080662852c"
  }
 },
 "nbformat": 4,
 "nbformat_minor": 2,
 "cells": [
  {
   "cell_type": "code",
   "execution_count": 1,
   "metadata": {},
   "outputs": [
    {
     "output_type": "stream",
     "name": "stdout",
     "text": [
      "..\\datasets\\faces\\cherp\\cherp0.jpg -> ..\\datasets\\prc_faces/image0.jpg\n",
      "..\\datasets\\faces\\cherp\\cherp1.jpg -> ..\\datasets\\prc_faces/image1.jpg\n",
      "..\\datasets\\faces\\cherp\\cherp10.jpg -> ..\\datasets\\prc_faces/image2.jpg\n",
      "..\\datasets\\faces\\cherp\\cherp11.jpg -> ..\\datasets\\prc_faces/image3.jpg\n",
      "..\\datasets\\faces\\cherp\\cherp12.jpg -> ..\\datasets\\prc_faces/image4.jpg\n",
      "..\\datasets\\faces\\cherp\\cherp13.jpg -> ..\\datasets\\prc_faces/image5.jpg\n",
      "..\\datasets\\faces\\cherp\\cherp14.jpg -> ..\\datasets\\prc_faces/image6.jpg\n",
      "..\\datasets\\faces\\cherp\\cherp15.jpg -> ..\\datasets\\prc_faces/image7.jpg\n",
      "..\\datasets\\faces\\cherp\\cherp16.jpg -> ..\\datasets\\prc_faces/image8.jpg\n",
      "..\\datasets\\faces\\cherp\\cherp17.jpg -> ..\\datasets\\prc_faces/image9.jpg\n",
      "..\\datasets\\faces\\cherp\\cherp18.jpg -> ..\\datasets\\prc_faces/image10.jpg\n",
      "..\\datasets\\faces\\cherp\\cherp19.jpg -> ..\\datasets\\prc_faces/image11.jpg\n",
      "..\\datasets\\faces\\cherp\\cherp2.jpg -> ..\\datasets\\prc_faces/image12.jpg\n",
      "..\\datasets\\faces\\cherp\\cherp3.jpg -> ..\\datasets\\prc_faces/image13.jpg\n",
      "..\\datasets\\faces\\cherp\\cherp4.jpg -> ..\\datasets\\prc_faces/image14.jpg\n",
      "..\\datasets\\faces\\cherp\\cherp5.jpg -> ..\\datasets\\prc_faces/image15.jpg\n",
      "..\\datasets\\faces\\cherp\\cherp6.jpg -> ..\\datasets\\prc_faces/image16.jpg\n",
      "..\\datasets\\faces\\cherp\\cherp7.jpg -> ..\\datasets\\prc_faces/image17.jpg\n",
      "..\\datasets\\faces\\cherp\\cherp8.jpg -> ..\\datasets\\prc_faces/image18.jpg\n",
      "..\\datasets\\faces\\cherp\\cherp9.jpg -> ..\\datasets\\prc_faces/image19.jpg\n",
      "..\\datasets\\faces\\phop\\phop0.jpg -> ..\\datasets\\prc_faces/image20.jpg\n",
      "..\\datasets\\faces\\phop\\phop1.jpg -> ..\\datasets\\prc_faces/image21.jpg\n",
      "..\\datasets\\faces\\phop\\phop10.jpg -> ..\\datasets\\prc_faces/image22.jpg\n",
      "..\\datasets\\faces\\phop\\phop11.jpg -> ..\\datasets\\prc_faces/image23.jpg\n",
      "..\\datasets\\faces\\phop\\phop12.jpg -> ..\\datasets\\prc_faces/image24.jpg\n",
      "..\\datasets\\faces\\phop\\phop13.jpg -> ..\\datasets\\prc_faces/image25.jpg\n",
      "..\\datasets\\faces\\phop\\phop14.jpg -> ..\\datasets\\prc_faces/image26.jpg\n",
      "..\\datasets\\faces\\phop\\phop15.jpg -> ..\\datasets\\prc_faces/image27.jpg\n",
      "..\\datasets\\faces\\phop\\phop16.jpg -> ..\\datasets\\prc_faces/image28.jpg\n",
      "..\\datasets\\faces\\phop\\phop17.jpg -> ..\\datasets\\prc_faces/image29.jpg\n",
      "..\\datasets\\faces\\phop\\phop18.jpg -> ..\\datasets\\prc_faces/image30.jpg\n",
      "..\\datasets\\faces\\phop\\phop19.jpg -> ..\\datasets\\prc_faces/image31.jpg\n",
      "..\\datasets\\faces\\phop\\phop2.jpg -> ..\\datasets\\prc_faces/image32.jpg\n",
      "..\\datasets\\faces\\phop\\phop3.jpg -> ..\\datasets\\prc_faces/image33.jpg\n",
      "..\\datasets\\faces\\phop\\phop4.jpg -> ..\\datasets\\prc_faces/image34.jpg\n",
      "..\\datasets\\faces\\phop\\phop5.jpg -> ..\\datasets\\prc_faces/image35.jpg\n",
      "..\\datasets\\faces\\phop\\phop6.jpg -> ..\\datasets\\prc_faces/image36.jpg\n",
      "..\\datasets\\faces\\phop\\phop7.jpg -> ..\\datasets\\prc_faces/image37.jpg\n",
      "..\\datasets\\faces\\phop\\phop8.jpg -> ..\\datasets\\prc_faces/image38.jpg\n",
      "..\\datasets\\faces\\phop\\phop9.jpg -> ..\\datasets\\prc_faces/image39.jpg\n"
     ]
    }
   ],
   "source": [
    "import cv2\n",
    "import pandas as pd\n",
    "from pathlib import Path\n",
    "\n",
    "name = input('input name: ')\n",
    "dataset = pd.read_csv('../datasets/' + name + '.csv', sep=',')\n",
    "ids = dataset.values[:,0]\n",
    "filenames = dataset.values[:,1]\n",
    "labels = dataset.values[:,2]\n",
    "\n",
    "prc_path = Path('../datasets/prc_' + name)\n",
    "if not prc_path.exists():\n",
    "    prc_path.mkdir()\n",
    "\n",
    "detector = cv2.CascadeClassifier('../models/haarcascades/haarcascade_frontalface_default.xml')\n",
    "\n",
    "new_names = []\n",
    "new_labels = []\n",
    "for i in range(len(filenames)):\n",
    "    input_path = Path(filenames[i])\n",
    "    if input_path.is_file():\n",
    "        output_name = str(prc_path) + '/image' + str(ids[i]) + input_path.suffix\n",
    "        \n",
    "        new_label = labels[i]\n",
    "        img = cv2.imread(str(input_path))       # read\n",
    "        # perform any pre-processing steps needed\n",
    "        img = cv2.resize(img, None, fx=0.5, fy=0.5, interpolation=cv2.INTER_LINEAR)\n",
    "        \n",
    "        gray = cv2.cvtColor(img, cv2.COLOR_BGR2GRAY)\n",
    "        faces = detector.detectMultiScale(gray, 1.2, 4)\n",
    "        if len(faces) > 0:\n",
    "            (x, y, w, h) = faces[0]\n",
    "            face_img = img[y:y+h, x:x+w]\n",
    "            cv2.imwrite(output_name, face_img)          # write\n",
    "\n",
    "            print(input_path, '->', output_name)\n",
    "            new_names.append(output_name)\n",
    "            new_labels.append(new_label)\n",
    "            \n",
    "prc_data = {'filename': new_names, 'label': new_labels}\n",
    "df = pd.DataFrame(prc_data, columns=['filename','label'])\n",
    "df.to_csv('../datasets/prc_' + name + '.csv')"
   ]
  }
 ]
}