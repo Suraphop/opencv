{
 "metadata": {
  "language_info": {
   "codemirror_mode": {
    "name": "ipython",
    "version": 3
   },
   "file_extension": ".py",
   "mimetype": "text/x-python",
   "name": "python",
   "nbconvert_exporter": "python",
   "pygments_lexer": "ipython3",
   "version": "3.9.5"
  },
  "orig_nbformat": 4,
  "kernelspec": {
   "name": "python3",
   "display_name": "Python 3.9.5 64-bit ('cv': conda)"
  },
  "interpreter": {
   "hash": "b24c52352ef91daf00e83c4e0a0f6d4e74ece916e767372443e591080662852c"
  }
 },
 "nbformat": 4,
 "nbformat_minor": 2,
 "cells": [
  {
   "cell_type": "code",
   "execution_count": 2,
   "metadata": {},
   "outputs": [
    {
     "output_type": "stream",
     "name": "stdout",
     "text": [
      "Accuracy Score: 1.0\n[[20  0]\n [ 0 20]]\n              precision    recall  f1-score   support\n\n       cherp       1.00      1.00      1.00        20\n        phop       1.00      1.00      1.00        20\n\n    accuracy                           1.00        40\n   macro avg       1.00      1.00      1.00        40\nweighted avg       1.00      1.00      1.00        40\n\n"
     ]
    }
   ],
   "source": [
    "import cv2\n",
    "import numpy as np\n",
    "import pandas as pd\n",
    "\n",
    "from joblib import dump\n",
    "from sklearn.svm import SVC\n",
    "from sklearn.model_selection import cross_val_predict\n",
    "from sklearn.metrics import confusion_matrix, classification_report\n",
    "\n",
    "name = input('input name: ')\n",
    "dataset = pd.read_csv('../datasets/prc_' + name + '.csv', sep=',')\n",
    "ids = dataset.values[:,0]\n",
    "filenames = dataset.values[:,1]\n",
    "labels = dataset.values[:,2].astype('str')\n",
    "\n",
    "index = pd.read_csv('../datasets/' + name + '-index.csv', sep=',')\n",
    "label_text = index.values[:,1]\n",
    "\n",
    "images = []\n",
    "for i in range(len(ids)):\n",
    "    img = cv2.imread(filenames[i])\n",
    "    gray = cv2.cvtColor(img, cv2.COLOR_BGR2GRAY)\n",
    "    rsz_img = cv2.resize(gray, (64,64), interpolation=cv2.INTER_LINEAR)\n",
    "    images.append(np.ravel(rsz_img))\n",
    "\n",
    "clf = SVC(kernel='linear', probability=True)\n",
    "clf.fit(images, labels)\n",
    "dump(clf, '../models/svm-' + name + '.mdl')\n",
    "\n",
    "print('Accuracy Score:', clf.score(images, labels))\n",
    "\n",
    "y_p = cross_val_predict(clf, images, labels, cv=3)\n",
    "print(confusion_matrix(labels, y_p))\n",
    "print(classification_report(labels, y_p, target_names=label_text))\n"
   ]
  }
 ]
}