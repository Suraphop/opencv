{
 "metadata": {
  "language_info": {
   "codemirror_mode": {
    "name": "ipython",
    "version": 3
   },
   "file_extension": ".py",
   "mimetype": "text/x-python",
   "name": "python",
   "nbconvert_exporter": "python",
   "pygments_lexer": "ipython3",
   "version": "3.9.5"
  },
  "orig_nbformat": 4,
  "kernelspec": {
   "name": "python3",
   "display_name": "Python 3.9.5 64-bit ('cv': conda)"
  },
  "interpreter": {
   "hash": "b24c52352ef91daf00e83c4e0a0f6d4e74ece916e767372443e591080662852c"
  }
 },
 "nbformat": 4,
 "nbformat_minor": 2,
 "cells": [
  {
   "cell_type": "code",
   "execution_count": 3,
   "metadata": {},
   "outputs": [
    {
     "output_type": "stream",
     "name": "stdout",
     "text": [
      "Model filename: ../models/facenet/20180408-102900/20180408-102900.pb\n"
     ]
    }
   ],
   "source": [
    "import sys\n",
    "sys.path.append('../models/facenet')\n",
    "\n",
    "import cv2\n",
    "import numpy as np\n",
    "import pandas as pd\n",
    "\n",
    "from joblib import load\n",
    "from facenet import FaceNet\n",
    "\n",
    "facenet = FaceNet('../models/facenet/20180408-102900/20180408-102900.pb')\n",
    "\n",
    "name = input('input name: ')\n",
    "index = pd.read_csv('../datasets/' + name + '-index.csv', sep=',')\n",
    "label_text = index.values[:,1]\n",
    "\n",
    "cap = cv2.VideoCapture(0)\n",
    "detector = cv2.CascadeClassifier('../models/haarcascades/haarcascade_frontalface_default.xml')\n",
    "clf = load('../models/svm-facenet-' + name + '.mdl')\n",
    "\n",
    "while(cap.isOpened()):\n",
    "    ret, frame = cap.read()\n",
    "    if ret == True:\n",
    "        img = frame.copy()\n",
    "        img = cv2.resize(img, None, fx=0.6, fy=0.6, interpolation=cv2.INTER_LINEAR)\n",
    "        #gray = cv2.cvtColor(img, cv2.COLOR_BGR2GRAY)\n",
    "        faces = detector.detectMultiScale(img, 1.2, 4)\n",
    "\n",
    "        for (x, y, w, h) in faces:\n",
    "            images = []\n",
    "            face = img[y:y+h, x:x+w]\n",
    "            face = cv2.resize(face, (160,160), interpolation=cv2.INTER_LINEAR)\n",
    "\n",
    "            embedding = facenet.get_embedding(face)\n",
    "            images.append(np.ravel(embedding))\n",
    "\n",
    "             y_p = clf.predict(images)\n",
    "            prob = clf.predict_proba(images)\n",
    "            max_prob = max(prob[0])\n",
    "            text = label_text[int(y_p)] + ' ({0:.2g}'.format(max_prob * 100) + '%)'\n",
    "\n",
    "            cv2.putText(img, text, (x,y-10), cv2.FONT_HERSHEY_SIMPLEX, 0.6, (255,0,255), thickness=2)\n",
    "            cv2.rectangle(img, (x,y), (x+w,y+h), (255,0,255), 2)\n",
    "        cv2.imshow('Face Recognition System', img)\n",
    "\n",
    "        if cv2.waitKey(1) & 0xFF == ord(' '):\n",
    "            break\n",
    "    else:\n",
    "        break\n",
    "cap.release()\n",
    "cv2.destroyAllWindows()"
   ]
  }
 ]
}