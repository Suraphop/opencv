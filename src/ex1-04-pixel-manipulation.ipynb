{
 "metadata": {
  "language_info": {
   "codemirror_mode": {
    "name": "ipython",
    "version": 3
   },
   "file_extension": ".py",
   "mimetype": "text/x-python",
   "name": "python",
   "nbconvert_exporter": "python",
   "pygments_lexer": "ipython3",
   "version": "3.9.5"
  },
  "orig_nbformat": 4,
  "kernelspec": {
   "name": "python3",
   "display_name": "Python 3.7.10 64-bit ('cv': conda)"
  },
  "interpreter": {
   "hash": "b24c52352ef91daf00e83c4e0a0f6d4e74ece916e767372443e591080662852c"
  }
 },
 "nbformat": 4,
 "nbformat_minor": 2,
 "cells": [
  {
   "cell_type": "code",
   "execution_count": 5,
   "metadata": {},
   "outputs": [
    {
     "output_type": "stream",
     "name": "stdout",
     "text": [
      "(192, 256, 3)\n147456\n[27 33 46]\nblue 27\ngreen 33\nred 46\nblue 46\n"
     ]
    }
   ],
   "source": [
    "import cv2\n",
    "\n",
    "img = cv2.imread('../datasets/images/image1.jpg')\n",
    "\n",
    "print(img.shape)  # numpy\n",
    "print(img.size)\n",
    "\n",
    "print(img[91,128])  # pixel in the middle of the image\n",
    "# RGB --> represented as BGR\n",
    "print('blue', img[91,128,0])\n",
    "print('green', img[91,128,1])\n",
    "print('red', img[91,128,2])\n",
    "\n",
    "#img.item(row_idx,column_idx,channel)\n",
    "print('blue', img.item(91,128,0))\n",
    "#img.itemset((row_idx,column_idx,channel), value)\n",
    "img.itemset((91,128,0), 100)\n",
    "print('blue_new', img.item(91,128,0))\n",
    "\n",
    "cv2.imshow('Image Display', img)\n",
    "cv2.waitKey(0)\n",
    "cv2.destroyAllWindows()\n"
   ]
  }
 ]
}