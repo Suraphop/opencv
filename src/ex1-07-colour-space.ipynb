{
 "metadata": {
  "language_info": {
   "codemirror_mode": {
    "name": "ipython",
    "version": 3
   },
   "file_extension": ".py",
   "mimetype": "text/x-python",
   "name": "python",
   "nbconvert_exporter": "python",
   "pygments_lexer": "ipython3",
   "version": "3.9.5"
  },
  "orig_nbformat": 4,
  "kernelspec": {
   "name": "python3",
   "display_name": "Python 3.7.10 64-bit ('cv': conda)"
  },
  "interpreter": {
   "hash": "b24c52352ef91daf00e83c4e0a0f6d4e74ece916e767372443e591080662852c"
  }
 },
 "nbformat": 4,
 "nbformat_minor": 2,
 "cells": [
  {
   "cell_type": "code",
   "execution_count": 55,
   "metadata": {},
   "outputs": [],
   "source": [
    "import cv2\n",
    "import numpy as np\n",
    "\n",
    "img = cv2.imread('../datasets/images/image145.jpg')\n",
    "\n",
    "gry = cv2.cvtColor(img, cv2.COLOR_BGR2GRAY)\n",
    "hsv = cv2.cvtColor(img, cv2.COLOR_BGR2HSV)\n",
    "rgb = cv2.cvtColor(img, cv2.COLOR_BGR2RGB)\n",
    "\n",
    "lb = np.array([110, 50, 50])\n",
    "ub = np.array([130, 255, 255])\n",
    "mask = cv2.inRange(hsv, lb, ub)\n",
    "output = cv2.bitwise_and(img, img, mask=mask)\n",
    "output_hsv = cv2.bitwise_and(hsv, hsv, mask=mask)\n",
    "\n",
    "\n",
    "cv2.imshow('Original', img)\n",
    "cv2.imshow('Grayscale', gry)\n",
    "cv2.imshow('HSV', hsv)\n",
    "cv2.imshow('RBG', rgb)\n",
    "cv2.imshow('Masked colour', output)\n",
    "cv2.imshow('Masked hsv', output_hsv)\n",
    "\n",
    "cv2.waitKey(0)\n",
    "cv2.destroyAllWindows()"
   ]
  }
 ]
}