{
 "metadata": {
  "language_info": {
   "codemirror_mode": {
    "name": "ipython",
    "version": 3
   },
   "file_extension": ".py",
   "mimetype": "text/x-python",
   "name": "python",
   "nbconvert_exporter": "python",
   "pygments_lexer": "ipython3",
   "version": 3
  },
  "orig_nbformat": 4
 },
 "nbformat": 4,
 "nbformat_minor": 2,
 "cells": [
  {
   "cell_type": "code",
   "execution_count": null,
   "metadata": {},
   "outputs": [],
   "source": [
    "import cv2\n",
    "import numpy as np\n",
    "\n",
    "from joblib import load\n",
    "\n",
    "names = ['Female','Male']\n",
    "detector = cv2.CascadeClassifier('../models/haarcascades/haarcascade_frontalface_default.xml')\n",
    "clf = load('../models/svm-gender.mdl')\n",
    "\n",
    "img = cv2.imread('../datasets/samples/blackpink/rose.jpg')\n",
    "img = cv2.resize(img, None, fx=0.5, fy=0.5, interpolation=cv2.INTER_LINEAR)\n",
    "gray = cv2.cvtColor(img, cv2.COLOR_BGR2GRAY)\n",
    "faces = detector.detectMultiScale(gray, 1.2, 4)\n",
    "\n",
    "for (x, y, w, h) in faces:\n",
    "    images = []\n",
    "    face = gray[y:y+h, x:x+w]\n",
    "    rsz_face = cv2.resize(face, (64,64), interpolation=cv2.INTER_LINEAR)\n",
    "    images.append(np.ravel(rsz_face))\n",
    "\n",
    "    y_p = clf.predict(images)\n",
    "    prob = clf.predict_proba(images)\n",
    "    max_prob = max(prob[0])\n",
    "    text = names[int(y_p)] + ' ({0:.2g}'.format(max_prob * 100) + '%)'\n",
    "\n",
    "    cv2.putText(img, text, (x,y-10), cv2.FONT_HERSHEY_SIMPLEX, 0.6, (0,255,0), thickness=2)\n",
    "    cv2.rectangle(img, (x,y), (x+w,y+h), (0,255,0), 2)\n",
    "\n",
    "cv2.imshow('Gender Classifier', img)\n",
    "\n",
    "cv2.waitKey(0)\n",
    "cv2.destroyAllWindows()"
   ]
  }
 ]
}