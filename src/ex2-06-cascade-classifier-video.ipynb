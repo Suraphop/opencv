{
 "metadata": {
  "language_info": {
   "codemirror_mode": {
    "name": "ipython",
    "version": 3
   },
   "file_extension": ".py",
   "mimetype": "text/x-python",
   "name": "python",
   "nbconvert_exporter": "python",
   "pygments_lexer": "ipython3",
   "version": "3.9.5"
  },
  "orig_nbformat": 4,
  "kernelspec": {
   "name": "python3",
   "display_name": "Python 3.9.5 64-bit ('cv': conda)"
  },
  "interpreter": {
   "hash": "b24c52352ef91daf00e83c4e0a0f6d4e74ece916e767372443e591080662852c"
  }
 },
 "nbformat": 4,
 "nbformat_minor": 2,
 "cells": [
  {
   "cell_type": "code",
   "execution_count": 1,
   "metadata": {},
   "outputs": [],
   "source": [
    "import cv2\n",
    "\n",
    "cap = cv2.VideoCapture(0)\n",
    "detector = cv2.CascadeClassifier('../models/haarcascades/haarcascade_frontalface_default.xml')\n",
    "#out = cv2.VideoWriter('datasets/outputs/detection.avi', cv2.VideoWriter_fourcc('M','J','P','G'), 30, (640,480))\n",
    "\n",
    "while(cap.isOpened()):\n",
    "    ret, frame = cap.read()\n",
    "    if ret == True:\n",
    "        img = frame.copy()\n",
    "        gray = cv2.cvtColor(img, cv2.COLOR_BGR2GRAY)\n",
    "        faces = detector.detectMultiScale(gray, 1.2, 4)\n",
    "\n",
    "        for (x, y, w, h) in faces:\n",
    "            cv2.rectangle(img, (x,y), (x+w,y+h), (0,255,0), 2)\n",
    "        #out.write(img)\n",
    "        cv2.imshow('Face Detector', img)\n",
    "\n",
    "        if cv2.waitKey(1) & 0xFF == ord(' '):\n",
    "            break\n",
    "    else:\n",
    "        break\n",
    "cap.release()\n",
    "#out.release()\n",
    "cv2.destroyAllWindows()"
   ]
  }
 ]
}