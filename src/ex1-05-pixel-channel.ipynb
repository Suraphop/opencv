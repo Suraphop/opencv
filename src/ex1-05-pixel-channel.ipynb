{
 "metadata": {
  "language_info": {
   "codemirror_mode": {
    "name": "ipython",
    "version": 3
   },
   "file_extension": ".py",
   "mimetype": "text/x-python",
   "name": "python",
   "nbconvert_exporter": "python",
   "pygments_lexer": "ipython3",
   "version": "3.9.5"
  },
  "orig_nbformat": 4,
  "kernelspec": {
   "name": "python3",
   "display_name": "Python 3.7.10 64-bit ('cv': conda)"
  },
  "interpreter": {
   "hash": "b24c52352ef91daf00e83c4e0a0f6d4e74ece916e767372443e591080662852c"
  }
 },
 "nbformat": 4,
 "nbformat_minor": 2,
 "cells": [
  {
   "cell_type": "code",
   "execution_count": 6,
   "metadata": {},
   "outputs": [],
   "source": [
    "import cv2\n",
    "\n",
    "img = cv2.imread('../datasets/images/image10.jpg')\n",
    "h = img.shape[0]\n",
    "w = img.shape[1]\n",
    "\n",
    "for j in range(0, h):\n",
    "    for i in range(0, w):\n",
    "        img.itemset((j, i, 0), 0)\n",
    "\n",
    "cv2.imshow('Image Display', img)\n",
    "cv2.imwrite('../datasets/output/output-no-blue.jpg', img)\n",
    "cv2.waitKey(0)\n",
    "cv2.destroyAllWindows()"
   ]
  }
 ]
}