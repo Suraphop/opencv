{
 "metadata": {
  "language_info": {
   "codemirror_mode": {
    "name": "ipython",
    "version": 3
   },
   "file_extension": ".py",
   "mimetype": "text/x-python",
   "name": "python",
   "nbconvert_exporter": "python",
   "pygments_lexer": "ipython3",
   "version": "3.9.5"
  },
  "orig_nbformat": 4,
  "kernelspec": {
   "name": "python3",
   "display_name": "Python 3.7.10 64-bit ('cv': conda)"
  },
  "interpreter": {
   "hash": "b24c52352ef91daf00e83c4e0a0f6d4e74ece916e767372443e591080662852c"
  }
 },
 "nbformat": 4,
 "nbformat_minor": 2,
 "cells": [
  {
   "cell_type": "code",
   "execution_count": 2,
   "metadata": {},
   "outputs": [],
   "source": [
    "import cv2\n",
    "import numpy as np\n",
    "\n",
    "img = cv2.imread('../datasets/images/image1.jpg')\n",
    "h = img.shape[0]    # 192\n",
    "w = img.shape[1]    # 256\n",
    "cy = h / 2\n",
    "cx = w / 2\n",
    "\n",
    "# scaling (resizing) interpolation mode: linear, cubic, area\n",
    "resized1 = cv2.resize(img, None, fx=0.7, fy=0.7, interpolation=cv2.INTER_LINEAR)\n",
    "resized2 = cv2.resize(img, (300,300), interpolation=cv2.INTER_LINEAR)\n",
    "\n",
    "# translation (shifting)\n",
    "M1 = np.float32([[1, 0, 50],[0, 1, 100]])\n",
    "img_t1 = cv2.warpAffine(img, M1, (w, h))\n",
    "\n",
    "# rotation\n",
    "M2 = cv2.getRotationMatrix2D((cx,cy), 45, 1)\n",
    "img_t2 = cv2.warpAffine(img, M2, (w, h))\n",
    "\n",
    "# affine transform (arbitrary)\n",
    "p1 = np.float32([[10,10],[50,10],[10,50]])\n",
    "p2 = np.float32([[5,30],[50,10],[20,80]])\n",
    "M3 = cv2.getAffineTransform(p1, p2)\n",
    "img_t3 = cv2.warpAffine(img, M3, (w, h))\n",
    "\n",
    "cv2.imshow('Original', img)\n",
    "cv2.imshow('Resized Image 1', resized1)\n",
    "cv2.imshow('Resized Image 2', resized2)\n",
    "cv2.imshow('Translated Image', img_t1)\n",
    "cv2.imshow('Rotated Image', img_t2)\n",
    "cv2.imshow('Affine-transformed Image', img_t3)\n",
    "\n",
    "cv2.waitKey(0)\n",
    "cv2.destroyAllWindows()"
   ]
  }
 ]
}