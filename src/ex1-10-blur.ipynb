{
 "metadata": {
  "language_info": {
   "codemirror_mode": {
    "name": "ipython",
    "version": 3
   },
   "file_extension": ".py",
   "mimetype": "text/x-python",
   "name": "python",
   "nbconvert_exporter": "python",
   "pygments_lexer": "ipython3",
   "version": 3
  },
  "orig_nbformat": 4
 },
 "nbformat": 4,
 "nbformat_minor": 2,
 "cells": [
  {
   "cell_type": "code",
   "execution_count": null,
   "metadata": {},
   "outputs": [],
   "source": [
    "import cv2\n",
    "import numpy as np\n",
    "\n",
    "img = cv2.imread('../datasets/images/image1.jpg')\n",
    "\n",
    "ksize = (3,3)\n",
    "# average blur\n",
    "blr1 = cv2.blur(img, ksize)\n",
    "# Gaussian blur\n",
    "blr2 = cv2.GaussianBlur(img, ksize, 0)\n",
    "\n",
    "cv2.imshow('Original', img)\n",
    "cv2.imshow('Average Blur', blr1)\n",
    "cv2.imshow('Gaussian Blur', blr2)\n",
    "\n",
    "cv2.waitKey(0)\n",
    "cv2.destroyAllWindows()"
   ]
  }
 ]
}