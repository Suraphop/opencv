{
 "metadata": {
  "language_info": {
   "codemirror_mode": {
    "name": "ipython",
    "version": 3
   },
   "file_extension": ".py",
   "mimetype": "text/x-python",
   "name": "python",
   "nbconvert_exporter": "python",
   "pygments_lexer": "ipython3",
   "version": "3.9.5"
  },
  "orig_nbformat": 4,
  "kernelspec": {
   "name": "python3",
   "display_name": "Python 3.7.10 64-bit ('cv': conda)"
  },
  "interpreter": {
   "hash": "b24c52352ef91daf00e83c4e0a0f6d4e74ece916e767372443e591080662852c"
  }
 },
 "nbformat": 4,
 "nbformat_minor": 2,
 "cells": [
  {
   "cell_type": "code",
   "execution_count": 5,
   "metadata": {},
   "outputs": [],
   "source": [
    "#cleaning up mangos and save\n",
    "\n",
    "import cv2\n",
    "import numpy as np\n",
    "\n",
    "img = cv2.imread('../datasets/mangoes/mangoes2.jpg') #read images\n",
    "img_resize = cv2.resize(img,None,fx=0.3,fy=0.3,interpolation=cv2.INTER_LINEAR) #resize\n",
    "\n",
    "img_hsv = cv2.cvtColor(img_resize, cv2.COLOR_BGR2HSV) #hsv\n",
    "\n",
    "lb = np.array([0, 0, 0])\n",
    "ub = np.array([90, 255, 255])\n",
    "mask = cv2.inRange(img_hsv, lb, ub)\n",
    "img_mask = cv2.bitwise_and(img_resize, img_resize, mask=mask) #mask \n",
    "\n",
    "img_gry = cv2.cvtColor(img_mask,cv2.COLOR_BGR2GRAY) #gray\n",
    "\n",
    "img_blr = cv2.blur(img_gry,(5,5)) #blur\n",
    "\n",
    "img_th = cv2.adaptiveThreshold(img_blr, 255, cv2.ADAPTIVE_THRESH_GAUSSIAN_C, cv2.THRESH_BINARY_INV,3, 2) #theshold\n",
    "\n",
    "ksize = (2,2)\n",
    "kernel = np.ones(ksize, np.uint8)\n",
    "img_opn = cv2.morphologyEx(img_th, cv2.MORPH_OPEN, kernel) #morphology\n",
    "\n",
    "cv2.imshow('origin',img_resize)\n",
    "cv2.imshow('hsv',img_hsv)\n",
    "cv2.imshow('mask',img_mask)\n",
    "cv2.imshow('gray', img_gry)\n",
    "cv2.imshow('blur', img_blr)\n",
    "cv2.imshow('thr', img_th)\n",
    "cv2.imshow('opn', img_opn)\n",
    "cv2.waitKey(0)\n",
    "cv2.destroyAllWindows()\n"
   ]
  }
 ]
}